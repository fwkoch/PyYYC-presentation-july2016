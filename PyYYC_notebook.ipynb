{
 "cells": [
  {
   "cell_type": "markdown",
   "metadata": {},
   "source": [
    "<a href=\"https://3ptscience.com\"><img src=\"images/3pt.png\" width=\"350\"></img></a>\n",
    "# Separating Data and Logic Using Metaclasses\n",
    "PyYYC Meetup - 26 July 2016\n",
    "\n",
    "Franklin Koch"
   ]
  },
  {
   "cell_type": "markdown",
   "metadata": {},
   "source": [
    "<img src=\"images/3pt_dots.png\" width=\"100\"></img>\n",
    "## Version 0: The Basics"
   ]
  },
  {
   "cell_type": "markdown",
   "metadata": {},
   "source": [
    "<img src=\"images/pyyyc_v00_0.png\" width=\"50%\"></img>"
   ]
  },
  {
   "cell_type": "code",
   "execution_count": null,
   "metadata": {
    "collapsed": true
   },
   "outputs": [],
   "source": [
    "from pyyyc_v00 import *"
   ]
  },
  {
   "cell_type": "code",
   "execution_count": null,
   "metadata": {
    "collapsed": true
   },
   "outputs": [],
   "source": [
    "this_pres = PyYYCPresentation(\n",
    "    presenter='Franklin',\n",
    "    topic='Metaclasses',\n",
    "    time_limit=90.,\n",
    "    nslides=10,\n",
    "    slide_color=[0, 0, 0]\n",
    ")"
   ]
  },
  {
   "cell_type": "code",
   "execution_count": null,
   "metadata": {
    "collapsed": false
   },
   "outputs": [],
   "source": [
    "this_pres.summarize()"
   ]
  },
  {
   "cell_type": "code",
   "execution_count": null,
   "metadata": {
    "collapsed": false
   },
   "outputs": [],
   "source": [
    "this_pres.time_per_slide()"
   ]
  },
  {
   "cell_type": "code",
   "execution_count": null,
   "metadata": {
    "collapsed": false
   },
   "outputs": [],
   "source": [
    "this_pres.strains_eyes()"
   ]
  },
  {
   "cell_type": "code",
   "execution_count": null,
   "metadata": {
    "collapsed": true
   },
   "outputs": [],
   "source": [
    "js_pres = PyYYCPresentation('JAVASCRIPT', 'RULES', 'PYTHON', 'DROOLS', 'LOLOL')"
   ]
  },
  {
   "cell_type": "code",
   "execution_count": null,
   "metadata": {
    "collapsed": false
   },
   "outputs": [],
   "source": [
    "js_pres.summarize()"
   ]
  },
  {
   "cell_type": "code",
   "execution_count": null,
   "metadata": {
    "collapsed": false
   },
   "outputs": [],
   "source": [
    "js_pres.time_per_slide()"
   ]
  },
  {
   "cell_type": "code",
   "execution_count": null,
   "metadata": {
    "collapsed": false
   },
   "outputs": [],
   "source": [
    "js_pres.strains_eyes()"
   ]
  },
  {
   "cell_type": "code",
   "execution_count": null,
   "metadata": {
    "collapsed": false
   },
   "outputs": [],
   "source": [
    "print(PyYYCPresentation.__doc__)"
   ]
  },
  {
   "cell_type": "code",
   "execution_count": null,
   "metadata": {
    "collapsed": true
   },
   "outputs": [],
   "source": [
    "next_pres = PyYYCPresentation('Rowan and Franklin', 'Shoulder bags', '4:30', 10, 'white')"
   ]
  },
  {
   "cell_type": "code",
   "execution_count": null,
   "metadata": {
    "collapsed": false
   },
   "outputs": [],
   "source": [
    "next_pres.summarize()"
   ]
  },
  {
   "cell_type": "code",
   "execution_count": null,
   "metadata": {
    "collapsed": false
   },
   "outputs": [],
   "source": [
    "next_pres.time_per_slide()"
   ]
  },
  {
   "cell_type": "code",
   "execution_count": null,
   "metadata": {
    "collapsed": false
   },
   "outputs": [],
   "source": [
    "next_pres.strains_eyes()"
   ]
  },
  {
   "cell_type": "markdown",
   "metadata": {},
   "source": [
    "<img src=\"images/3pt_dots.png\" width=\"100\"></img>\n",
    "## Version 1: A bit of validation logic"
   ]
  },
  {
   "cell_type": "markdown",
   "metadata": {},
   "source": [
    "<div>\n",
    "<div style=\"float:left;width:49%\">\n",
    "  <img src=\"images/pyyyc_v00_0.png\"></img>\n",
    "</div>\n",
    "<div style=\"float:right;width:49%\">\n",
    "  <img src=\"images/pyyyc_v01_0_an.png\"></img>\n",
    "</div>\n",
    "</div>"
   ]
  },
  {
   "cell_type": "code",
   "execution_count": null,
   "metadata": {
    "collapsed": false
   },
   "outputs": [],
   "source": [
    "from pyyyc_v01 import *"
   ]
  },
  {
   "cell_type": "code",
   "execution_count": null,
   "metadata": {
    "collapsed": true
   },
   "outputs": [],
   "source": [
    "this_pres = PyYYCPresentation(\n",
    "    presenter='Franklin',\n",
    "    topic='Metaclasses',\n",
    "    time_limit=90.,\n",
    "    nslides=10,\n",
    "    slide_color=[0, 0, 0]\n",
    ")"
   ]
  },
  {
   "cell_type": "code",
   "execution_count": null,
   "metadata": {
    "collapsed": true
   },
   "outputs": [],
   "source": [
    "this_pres.set_nslides(15)"
   ]
  },
  {
   "cell_type": "code",
   "execution_count": null,
   "metadata": {
    "collapsed": false
   },
   "outputs": [],
   "source": [
    "this_pres.nslides"
   ]
  },
  {
   "cell_type": "code",
   "execution_count": null,
   "metadata": {
    "collapsed": false
   },
   "outputs": [],
   "source": [
    "this_pres.set_time_limit('whatever')"
   ]
  },
  {
   "cell_type": "code",
   "execution_count": null,
   "metadata": {
    "collapsed": true
   },
   "outputs": [],
   "source": [
    "this_pres.time_limit = 'whatever'"
   ]
  },
  {
   "cell_type": "code",
   "execution_count": null,
   "metadata": {
    "collapsed": true
   },
   "outputs": [],
   "source": [
    "this_pres.set_slide_color('red')"
   ]
  },
  {
   "cell_type": "code",
   "execution_count": null,
   "metadata": {
    "collapsed": false
   },
   "outputs": [],
   "source": [
    "this_pres.slide_color"
   ]
  },
  {
   "cell_type": "code",
   "execution_count": null,
   "metadata": {
    "collapsed": false
   },
   "outputs": [],
   "source": [
    "js_pres = PyYYCPresentation('JAVASCRIPT', 'RULES', 'PYTHON', 'DROOLS', 'LOLOL')"
   ]
  },
  {
   "cell_type": "markdown",
   "metadata": {},
   "source": [
    "<img src=\"images/3pt_dots.png\" width=\"100\"></img>\n",
    "## Version 2: Getting a bit more pythonic - Properties wrappers"
   ]
  },
  {
   "cell_type": "markdown",
   "metadata": {},
   "source": [
    "<div>\n",
    "<div style=\"float:left;width:49%\">\n",
    "  <img src=\"images/pyyyc_v01_0_an.png\"></img>\n",
    "</div>\n",
    "<div style=\"float:right;width:49%\">\n",
    "  <img src=\"images/pyyyc_v02_0_an.png\"></img>\n",
    "  <img src=\"images/pyyyc_v02_1.png\"></img>\n",
    "</div>\n",
    "</div>"
   ]
  },
  {
   "cell_type": "code",
   "execution_count": null,
   "metadata": {
    "collapsed": true
   },
   "outputs": [],
   "source": [
    "from pyyyc_v02 import *"
   ]
  },
  {
   "cell_type": "code",
   "execution_count": null,
   "metadata": {
    "collapsed": true
   },
   "outputs": [],
   "source": [
    "this_pres = PyYYCPresentation(\n",
    "    presenter='Franklin',\n",
    "    topic='Metaclasses',\n",
    "    time_limit=90.,\n",
    "    nslides=10,\n",
    "    slide_color=[0, 0, 0]\n",
    ")"
   ]
  },
  {
   "cell_type": "code",
   "execution_count": null,
   "metadata": {
    "collapsed": true
   },
   "outputs": [],
   "source": [
    "this_pres.nslides = 15"
   ]
  },
  {
   "cell_type": "code",
   "execution_count": null,
   "metadata": {
    "collapsed": false
   },
   "outputs": [],
   "source": [
    "this_pres.nslides"
   ]
  },
  {
   "cell_type": "code",
   "execution_count": null,
   "metadata": {
    "collapsed": false
   },
   "outputs": [],
   "source": [
    "this_pres._nslides"
   ]
  },
  {
   "cell_type": "code",
   "execution_count": null,
   "metadata": {
    "collapsed": false
   },
   "outputs": [],
   "source": [
    "this_pres.time_limit = 'whatever'"
   ]
  },
  {
   "cell_type": "code",
   "execution_count": null,
   "metadata": {
    "collapsed": true
   },
   "outputs": [],
   "source": [
    "this_pres.slide_color = 'red'"
   ]
  },
  {
   "cell_type": "code",
   "execution_count": null,
   "metadata": {
    "collapsed": false
   },
   "outputs": [],
   "source": [
    "this_pres.slide_color"
   ]
  },
  {
   "cell_type": "markdown",
   "metadata": {},
   "source": [
    "<img src=\"images/3pt_dots.png\" width=\"100\"></img>\n",
    "## Version 3: Separating logic with class inheritance"
   ]
  },
  {
   "cell_type": "markdown",
   "metadata": {},
   "source": [
    "<img src=\"images/pyyyc_v03_0_an.png\" width=\"50%\"></img>"
   ]
  },
  {
   "cell_type": "markdown",
   "metadata": {},
   "source": [
    "<img src=\"images/pyyyc_v03_1_2.png\" width=\"75%\"></img>"
   ]
  },
  {
   "cell_type": "markdown",
   "metadata": {},
   "source": [
    "<img src=\"images/pyyyc_v03_3_an.png\" width=\"50%\"></img>"
   ]
  },
  {
   "cell_type": "code",
   "execution_count": null,
   "metadata": {
    "collapsed": true
   },
   "outputs": [],
   "source": [
    "from pyyyc_v03 import *"
   ]
  },
  {
   "cell_type": "code",
   "execution_count": null,
   "metadata": {
    "collapsed": true
   },
   "outputs": [],
   "source": [
    "this_pres = PyYYCPresentation(\n",
    "    presenter='Franklin',\n",
    "    topic='Metaclasses',\n",
    "    time_limit=90.,\n",
    "    nslides=10,\n",
    "    slide_color=[0, 0, 0]\n",
    ")"
   ]
  },
  {
   "cell_type": "code",
   "execution_count": null,
   "metadata": {
    "collapsed": true
   },
   "outputs": [],
   "source": [
    "js_pres = YYCjsPresentation(\n",
    "    presenter='Franklin',\n",
    "    topic='How javascript rules and literally everything else drools. lolol',\n",
    "    time_limit=5.,\n",
    "    nslides=100,\n",
    "    slide_color='green'\n",
    ")"
   ]
  },
  {
   "cell_type": "code",
   "execution_count": null,
   "metadata": {
    "collapsed": false
   },
   "outputs": [],
   "source": [
    "happy_pres = FreeSpiritPresentation(\n",
    "    presenter='Moonflower',\n",
    "    favorite_color=[255, 51, 153]\n",
    ")"
   ]
  },
  {
   "cell_type": "code",
   "execution_count": null,
   "metadata": {
    "collapsed": false
   },
   "outputs": [],
   "source": [
    "happy_pres.summarize()"
   ]
  },
  {
   "cell_type": "markdown",
   "metadata": {},
   "source": [
    "<img src=\"images/3pt_dots.png\" width=\"100\"></img>\n",
    "## Version 4: More subclassing..."
   ]
  },
  {
   "cell_type": "markdown",
   "metadata": {},
   "source": [
    "<div>\n",
    "<div style=\"float:left;width:49%\">\n",
    "  <img src=\"images/pyyyc_v03_0_an.png\"></img>\n",
    "</div>\n",
    "<div style=\"float:right;width:49%\">\n",
    "  <img src=\"images/pyyyc_v04_0_an.png\"></img>\n",
    "</div>\n",
    "</div>"
   ]
  },
  {
   "cell_type": "markdown",
   "metadata": {},
   "source": [
    "<img src=\"images/pyyyc_v04_1_an.png\" width=\"50%\"></img>"
   ]
  },
  {
   "cell_type": "code",
   "execution_count": null,
   "metadata": {
    "collapsed": true
   },
   "outputs": [],
   "source": [
    "from pyyyc_v04 import *"
   ]
  },
  {
   "cell_type": "markdown",
   "metadata": {},
   "source": [
    "<img src=\"images/3pt_dots.png\" width=\"100\"></img>\n",
    "## Version 5: Extracting more logic out of our classes"
   ]
  },
  {
   "cell_type": "markdown",
   "metadata": {},
   "source": [
    "<div>\n",
    "<div style=\"float:left;width:49%\">\n",
    "  <img src=\"images/pyyyc_v05_0.png\"></img>\n",
    "</div>\n",
    "<div style=\"float:right;width:49%\">\n",
    "  <img src=\"images/pyyyc_v05_1_an.png\"></img>\n",
    "</div>\n",
    "</div>"
   ]
  },
  {
   "cell_type": "code",
   "execution_count": null,
   "metadata": {
    "collapsed": true
   },
   "outputs": [],
   "source": [
    "from pyyyc_v05 import *"
   ]
  },
  {
   "cell_type": "code",
   "execution_count": null,
   "metadata": {
    "collapsed": false
   },
   "outputs": [],
   "source": [
    "confirmColor('red')"
   ]
  },
  {
   "cell_type": "code",
   "execution_count": null,
   "metadata": {
    "collapsed": false
   },
   "outputs": [],
   "source": [
    "confirmColor([10000, .1, .3])"
   ]
  },
  {
   "cell_type": "markdown",
   "metadata": {},
   "source": [
    "<img src=\"images/3pt_dots.png\" width=\"100\"></img>\n",
    "## Version 6: Brief foray into wrappers"
   ]
  },
  {
   "cell_type": "markdown",
   "metadata": {},
   "source": [
    "<div>\n",
    "<div style=\"float:left;width:49%\">\n",
    "  <img src=\"images/pyyyc_v05_1_an.png\"></img>\n",
    "</div>\n",
    "<div style=\"float:right;width:49%\">\n",
    "  <img src=\"images/pyyyc_v06_0_an.png\"></img>\n",
    "</div>\n",
    "</div>"
   ]
  },
  {
   "cell_type": "markdown",
   "metadata": {},
   "source": [
    "<img src=\"images/pyyyc_v06_1.png\" width=\"75%\"></img>"
   ]
  },
  {
   "cell_type": "code",
   "execution_count": null,
   "metadata": {
    "collapsed": true
   },
   "outputs": [],
   "source": [
    "from pyyyc_v06 import *"
   ]
  },
  {
   "cell_type": "markdown",
   "metadata": {},
   "source": [
    "<img src=\"images/3pt_dots.png\" width=\"100\"></img>\n",
    "## Version 7: Can we remove more of the repetitive code...?"
   ]
  },
  {
   "cell_type": "markdown",
   "metadata": {},
   "source": [
    "<div>\n",
    "<div style=\"float:left;width:49%\">\n",
    "  <img src=\"images/pyyyc_v06_0_an.png\"></img>\n",
    "</div>\n",
    "<div style=\"float:right;width:49%\">\n",
    "  <img src=\"images/pyyyc_v07_0_an.png\"></img>\n",
    "</div>\n",
    "</div>"
   ]
  },
  {
   "cell_type": "markdown",
   "metadata": {},
   "source": [
    "<img src=\"images/pyyyc_v07_1.png\" width=\"75%\"></img>"
   ]
  },
  {
   "cell_type": "markdown",
   "metadata": {},
   "source": [
    "<img src=\"images/pyyyc_v07_2.png\" width=\"50%\"></img>"
   ]
  },
  {
   "cell_type": "code",
   "execution_count": null,
   "metadata": {
    "collapsed": true
   },
   "outputs": [],
   "source": [
    "from pyyyc_v07 import *"
   ]
  },
  {
   "cell_type": "code",
   "execution_count": null,
   "metadata": {
    "collapsed": true
   },
   "outputs": [],
   "source": [
    "this_pres = PyYYCPresentation(\n",
    "    presenter='Franklin',\n",
    "    topic='Metaclasses',\n",
    "    time_limit=90.,\n",
    "    nslides=10,\n",
    "    slide_color=[0, 0, 0]\n",
    ")"
   ]
  },
  {
   "cell_type": "code",
   "execution_count": null,
   "metadata": {
    "collapsed": false
   },
   "outputs": [],
   "source": [
    "this_pres.slide_color = 'red'"
   ]
  },
  {
   "cell_type": "code",
   "execution_count": null,
   "metadata": {
    "collapsed": true
   },
   "outputs": [],
   "source": [
    "this_pres.slide_color"
   ]
  },
  {
   "cell_type": "code",
   "execution_count": null,
   "metadata": {
    "collapsed": true
   },
   "outputs": [],
   "source": [
    "this_pres._slide_color"
   ]
  },
  {
   "cell_type": "markdown",
   "metadata": {},
   "source": [
    "<img src=\"images/3pt_dots.png\" width=\"100\"></img>\n",
    "## Version 8: Git rid of old subclass structure"
   ]
  },
  {
   "cell_type": "markdown",
   "metadata": {},
   "source": [
    "<div>\n",
    "<div style=\"float:left;width:49%\">\n",
    "  <img src=\"images/pyyyc_v07_0_an.png\"></img>\n",
    "</div>\n",
    "<div style=\"float:right;width:49%\">\n",
    "  <img src=\"images/pyyyc_v08_0_an.png\"></img>\n",
    "</div>\n",
    "</div>"
   ]
  },
  {
   "cell_type": "code",
   "execution_count": null,
   "metadata": {
    "collapsed": true
   },
   "outputs": [],
   "source": [
    "from pyyyc_v08 import *"
   ]
  },
  {
   "cell_type": "markdown",
   "metadata": {},
   "source": [
    "<img src=\"images/3pt_dots.png\" width=\"100\"></img>\n",
    "## Version 9: Remove clunky \\_\\_init\\_\\_ function"
   ]
  },
  {
   "cell_type": "markdown",
   "metadata": {},
   "source": [
    "<div>\n",
    "<div style=\"float:left;width:49%\">\n",
    "  <img src=\"images/pyyyc_v08_0.png\"></img>\n",
    "</div>\n",
    "<div style=\"float:right;width:49%\">\n",
    "  <img src=\"images/pyyyc_v09_0_an.png\"></img>\n",
    "</div>\n",
    "</div>"
   ]
  },
  {
   "cell_type": "code",
   "execution_count": null,
   "metadata": {
    "collapsed": true
   },
   "outputs": [],
   "source": [
    "from pyyyc_v09 import *"
   ]
  },
  {
   "cell_type": "code",
   "execution_count": null,
   "metadata": {
    "collapsed": true
   },
   "outputs": [],
   "source": [
    "this_pres = PyYYCPresentation(\n",
    "    presenter='Franklin',\n",
    "    topic='Metaclasses',\n",
    "    time_limit=90.,\n",
    "    nslides=10,\n",
    "    slide_color=[0, 0, 0]\n",
    ")"
   ]
  },
  {
   "cell_type": "code",
   "execution_count": null,
   "metadata": {
    "collapsed": true
   },
   "outputs": [],
   "source": [
    "new_pres = PyYYCPresentation()"
   ]
  },
  {
   "cell_type": "code",
   "execution_count": null,
   "metadata": {
    "collapsed": false
   },
   "outputs": [],
   "source": [
    "new_pres.time_limit = '1:30'"
   ]
  },
  {
   "cell_type": "code",
   "execution_count": null,
   "metadata": {
    "collapsed": true
   },
   "outputs": [],
   "source": [
    "new_pres.time_limit = 90."
   ]
  },
  {
   "cell_type": "code",
   "execution_count": null,
   "metadata": {
    "collapsed": false
   },
   "outputs": [],
   "source": [
    "new_pres.summarize()"
   ]
  },
  {
   "cell_type": "code",
   "execution_count": null,
   "metadata": {
    "collapsed": true
   },
   "outputs": [],
   "source": [
    "new_pres.summarize = 'Oops, but that is just python...'"
   ]
  },
  {
   "cell_type": "code",
   "execution_count": null,
   "metadata": {
    "collapsed": true
   },
   "outputs": [],
   "source": [
    "summarized_pres = PyYYCPresentation(\n",
    "    summarize = 'Hmm, that is a bigger oops...'\n",
    ")"
   ]
  },
  {
   "cell_type": "code",
   "execution_count": null,
   "metadata": {
    "collapsed": true
   },
   "outputs": [],
   "source": [
    "nefarious_pres = PyYYCPresentation(\n",
    "    presenter = 'Franklin',\n",
    "    _presenter = 'Dr. Nefarious'\n",
    ")"
   ]
  },
  {
   "cell_type": "markdown",
   "metadata": {},
   "source": [
    "<img src=\"images/3pt_dots.png\" width=\"100\"></img>\n",
    "## Version 10: Remove the \\_\\_init\\_\\_ logic away from your data entirely"
   ]
  },
  {
   "cell_type": "markdown",
   "metadata": {},
   "source": [
    "<div>\n",
    "<div style=\"float:left;width:49%\">\n",
    "  <img src=\"images/pyyyc_v09_0_an.png\"></img>\n",
    "</div>\n",
    "<div style=\"float:right;width:49%\">\n",
    "  <img src=\"images/pyyyc_v10_0.png\"></img>\n",
    "</div>\n",
    "</div>"
   ]
  },
  {
   "cell_type": "code",
   "execution_count": null,
   "metadata": {
    "collapsed": true
   },
   "outputs": [],
   "source": [
    "from pyyyc_v10 import *"
   ]
  },
  {
   "cell_type": "markdown",
   "metadata": {},
   "source": [
    "<img src=\"images/3pt_dots.png\" width=\"100\"></img>\n",
    "## Version 11: Metaclasses. Finally."
   ]
  },
  {
   "cell_type": "markdown",
   "metadata": {},
   "source": [
    "<img src=\"images/pyyyc_v11_0_an.png\" width=\"50%\"></img>"
   ]
  },
  {
   "cell_type": "code",
   "execution_count": null,
   "metadata": {
    "collapsed": false
   },
   "outputs": [],
   "source": [
    "from pyyyc_v11 import *"
   ]
  },
  {
   "cell_type": "markdown",
   "metadata": {},
   "source": [
    "<img src=\"images/3pt_dots.png\" width=\"100\"></img>\n",
    "## Version 12: Introspection with metaclasses"
   ]
  },
  {
   "cell_type": "markdown",
   "metadata": {},
   "source": [
    "<img src=\"images/pyyyc_v12_0.png\" width=\"50%\"></img>"
   ]
  },
  {
   "cell_type": "code",
   "execution_count": null,
   "metadata": {
    "collapsed": false
   },
   "outputs": [],
   "source": [
    "from pyyyc_v12 import *"
   ]
  },
  {
   "cell_type": "code",
   "execution_count": null,
   "metadata": {
    "collapsed": true
   },
   "outputs": [],
   "source": [
    "pres = PyYYCPresentation()"
   ]
  },
  {
   "cell_type": "code",
   "execution_count": null,
   "metadata": {
    "collapsed": false
   },
   "outputs": [],
   "source": [
    "pres.__class__.__name__"
   ]
  },
  {
   "cell_type": "markdown",
   "metadata": {},
   "source": [
    "<img src=\"images/pyyyc_v12_1.png\" width=\"50%\"></img>"
   ]
  },
  {
   "cell_type": "code",
   "execution_count": null,
   "metadata": {
    "collapsed": false
   },
   "outputs": [],
   "source": [
    "from pyyyc_v12 import *"
   ]
  },
  {
   "cell_type": "code",
   "execution_count": null,
   "metadata": {
    "collapsed": true
   },
   "outputs": [],
   "source": [
    "pres = PyYYCPresentation()"
   ]
  },
  {
   "cell_type": "code",
   "execution_count": null,
   "metadata": {
    "collapsed": false
   },
   "outputs": [],
   "source": [
    "pres._props"
   ]
  },
  {
   "cell_type": "markdown",
   "metadata": {},
   "source": [
    "<div>\n",
    "<div style=\"float:left;width:49%\">\n",
    "  <img src=\"images/pyyyc_v12_2.png\"></img>\n",
    "</div>\n",
    "<div style=\"float:right;width:49%\">\n",
    "  <img src=\"images/pyyyc_v12_3_an.png\"></img>\n",
    "</div>\n",
    "</div>"
   ]
  },
  {
   "cell_type": "markdown",
   "metadata": {},
   "source": [
    "<img src=\"images/3pt_dots.png\" width=\"100\"></img>\n",
    "## Version 13: Remove unnecessary redundancy (how's that for a section title?)"
   ]
  },
  {
   "cell_type": "markdown",
   "metadata": {},
   "source": [
    "<div>\n",
    "<div style=\"float:left;width:49%\">\n",
    "  <img src=\"images/pyyyc_v13_3_an.png\"></img>\n",
    "</div>\n",
    "<div style=\"float:right;width:49%\">\n",
    "  <img src=\"images/pyyyc_v13_4.png\"></img>\n",
    "</div>\n",
    "</div>"
   ]
  },
  {
   "cell_type": "markdown",
   "metadata": {},
   "source": [
    "<div>\n",
    "<div style=\"float:left;width:49%\">\n",
    "  <img src=\"images/pyyyc_v13_1_an.png\"></img>\n",
    "</div>\n",
    "<div style=\"float:right;width:49%\">\n",
    "  <img src=\"images/pyyyc_v13_2_an.png\"></img>\n",
    "</div>\n",
    "</div>"
   ]
  },
  {
   "cell_type": "markdown",
   "metadata": {},
   "source": [
    "<img src=\"images/pyyyc_v13_0_an.png\" width=\"50%\"></img>"
   ]
  },
  {
   "cell_type": "code",
   "execution_count": null,
   "metadata": {
    "collapsed": true
   },
   "outputs": [],
   "source": [
    "from pyyyc_v13 import *"
   ]
  },
  {
   "cell_type": "code",
   "execution_count": null,
   "metadata": {
    "collapsed": false
   },
   "outputs": [],
   "source": [
    "this_pres = PyYYCPresentation(\n",
    "    presenter='Franklin',\n",
    "    topic='Metaclasses',\n",
    "    time_limit=90.,\n",
    "    nslides=10,\n",
    "    slide_color=[0, 0, 0]\n",
    ")"
   ]
  },
  {
   "cell_type": "code",
   "execution_count": null,
   "metadata": {
    "collapsed": false
   },
   "outputs": [],
   "source": [
    "this_pres._slide_color"
   ]
  },
  {
   "cell_type": "code",
   "execution_count": null,
   "metadata": {
    "collapsed": true
   },
   "outputs": [],
   "source": [
    "this_pres.slide_color = 'red'"
   ]
  },
  {
   "cell_type": "code",
   "execution_count": null,
   "metadata": {
    "collapsed": false
   },
   "outputs": [],
   "source": [
    "this_pres.slide_color"
   ]
  },
  {
   "cell_type": "code",
   "execution_count": null,
   "metadata": {
    "collapsed": true
   },
   "outputs": [],
   "source": [
    "this_pres._slide_color"
   ]
  },
  {
   "cell_type": "markdown",
   "metadata": {},
   "source": [
    "<img src=\"images/3pt_dots.png\" width=\"100\"></img>\n",
    "## Version 14: Validation on class definition (not instantiation)"
   ]
  },
  {
   "cell_type": "markdown",
   "metadata": {},
   "source": [
    "<img src=\"images/pyyyc_v14_0_an.png\" width=\"50%\"></img>"
   ]
  },
  {
   "cell_type": "code",
   "execution_count": null,
   "metadata": {
    "collapsed": true
   },
   "outputs": [],
   "source": [
    "from pyyyc_v14 import *"
   ]
  },
  {
   "cell_type": "code",
   "execution_count": null,
   "metadata": {
    "collapsed": false
   },
   "outputs": [],
   "source": [
    "class SkateparkAccolades(WithSpecialProps):\n",
    "    mad_props = StrProp()\n",
    "    props = StrProp()\n",
    "    def compliment(self):\n",
    "        print('Dude, {props}. I mean seriously, {mad_props}!'.format(\n",
    "            props=self.props,\n",
    "            mad_props=self.mad_props\n",
    "        ))"
   ]
  },
  {
   "cell_type": "markdown",
   "metadata": {},
   "source": [
    "<img src=\"images/3pt_dots.png\" width=\"100\"></img>\n",
    "## Version 15: Metaclass for auto-documentation"
   ]
  },
  {
   "cell_type": "markdown",
   "metadata": {},
   "source": [
    "<img src=\"images/pyyyc_v15_1_an.png\" width=\"50%\"></img>"
   ]
  },
  {
   "cell_type": "markdown",
   "metadata": {},
   "source": [
    "<img src=\"images/pyyyc_v15_0_an.png\" width=\"50%\"></img>"
   ]
  },
  {
   "cell_type": "markdown",
   "metadata": {},
   "source": [
    "<img src=\"images/pyyyc_v15_3_an.png\" width=\"50%\"></img>"
   ]
  },
  {
   "cell_type": "code",
   "execution_count": null,
   "metadata": {
    "collapsed": true
   },
   "outputs": [],
   "source": [
    "from pyyyc_v15 import *"
   ]
  },
  {
   "cell_type": "code",
   "execution_count": null,
   "metadata": {
    "collapsed": true
   },
   "outputs": [],
   "source": [
    "PyYYCPresentation?"
   ]
  },
  {
   "cell_type": "markdown",
   "metadata": {},
   "source": [
    "<img src=\"images/3pt_dots.png\" width=\"100\"></img>\n",
    "## Version 16: Automatic class registration"
   ]
  },
  {
   "cell_type": "markdown",
   "metadata": {},
   "source": [
    "<img src=\"images/pyyyc_v16_0_an.png\" width=\"50%\"></img>"
   ]
  },
  {
   "cell_type": "code",
   "execution_count": null,
   "metadata": {
    "collapsed": false
   },
   "outputs": [],
   "source": [
    "import pyyyc_v16"
   ]
  },
  {
   "cell_type": "code",
   "execution_count": null,
   "metadata": {
    "collapsed": false
   },
   "outputs": [],
   "source": [
    "pyyyc_v16._REGISTRY"
   ]
  },
  {
   "cell_type": "code",
   "execution_count": null,
   "metadata": {
    "collapsed": false
   },
   "outputs": [],
   "source": [
    "for key in pyyyc_v16._REGISTRY:\n",
    "    print(pyyyc_v16._REGISTRY[key].__doc__ + 60*'_' + '\\n')"
   ]
  },
  {
   "cell_type": "markdown",
   "metadata": {},
   "source": [
    "<div>\n",
    "<div style=\"float:left;width:49%\">\n",
    "  <img src=\"images/pyyyc_v16_1.png\"></img>\n",
    "</div>\n",
    "<div style=\"float:right;width:49%\">\n",
    "  <img src=\"images/pyyyc_v16_2.png\"></img>\n",
    "</div>\n",
    "</div>"
   ]
  },
  {
   "cell_type": "markdown",
   "metadata": {},
   "source": [
    "<div>\n",
    "<div style=\"float:left;width:49%\">\n",
    "  <img src=\"images/pyyyc_v16_1.png\"></img>\n",
    "</div>\n",
    "<div style=\"float:right;width:49%\">\n",
    "  <img src=\"images/pyyyc_v16_3.png\"></img>\n",
    "</div>\n",
    "</div>"
   ]
  },
  {
   "cell_type": "markdown",
   "metadata": {},
   "source": [
    "<img src=\"images/3pt_dots.png\" width=\"100\"></img>\n",
    "## Version 17: Converting over to _properties_"
   ]
  },
  {
   "cell_type": "markdown",
   "metadata": {},
   "source": [
    "<div>\n",
    "<div style=\"float:left;width:49%\">\n",
    "  <img src=\"images/pyyyc_v16_1.png\"></img>\n",
    "</div>\n",
    "<div style=\"float:right;width:49%\">\n",
    "  <img src=\"images/pyyyc_v17_0.png\"></img>\n",
    "</div>\n",
    "</div>"
   ]
  },
  {
   "cell_type": "code",
   "execution_count": null,
   "metadata": {
    "collapsed": true
   },
   "outputs": [],
   "source": [
    "from pyyyc_v17 import *"
   ]
  },
  {
   "cell_type": "markdown",
   "metadata": {},
   "source": [
    "<img src=\"images/3pt_dots.png\" width=\"100\"></img>\n",
    "## Version 18: Taking _properties_ and running with it"
   ]
  },
  {
   "cell_type": "markdown",
   "metadata": {},
   "source": [
    "<div>\n",
    "<div style=\"float:left;width:49%\">\n",
    "  <img src=\"images/pyyyc_v18_0.png\"></img>\n",
    "</div>\n",
    "<div style=\"float:right;width:49%\">\n",
    "  <img src=\"images/pyyyc_v18_1.png\"></img>\n",
    "</div>\n",
    "</div>"
   ]
  },
  {
   "cell_type": "code",
   "execution_count": null,
   "metadata": {
    "collapsed": false
   },
   "outputs": [],
   "source": [
    "from pyyyc_v18 import *"
   ]
  },
  {
   "cell_type": "code",
   "execution_count": null,
   "metadata": {
    "collapsed": true
   },
   "outputs": [],
   "source": [
    "me = Person(name='Franklin', bio='python, 3ptscience, coffee')"
   ]
  },
  {
   "cell_type": "code",
   "execution_count": null,
   "metadata": {
    "collapsed": true
   },
   "outputs": [],
   "source": [
    "slide1 = Slide(topic='PyYYC', slide_color='black')\n",
    "slide2 = Slide(topic='Wrappers', slide_color=[100, 100, 100])\n",
    "slide3 = Slide(topic='Metaclasses', slide_color='mediumslateblue')"
   ]
  },
  {
   "cell_type": "code",
   "execution_count": null,
   "metadata": {
    "collapsed": true
   },
   "outputs": [],
   "source": [
    "ppt = PyYYCPresentation(\n",
    "    presenter=me,\n",
    "    topic='Data and Logic',\n",
    "    time_limit=90.,\n",
    "    slides=[slide1, slide2, slide3]\n",
    ")"
   ]
  },
  {
   "cell_type": "code",
   "execution_count": null,
   "metadata": {
    "collapsed": false
   },
   "outputs": [],
   "source": [
    "ppt.cliff_notes()"
   ]
  },
  {
   "cell_type": "markdown",
   "metadata": {},
   "source": [
    "<a href=\"https://3ptscience.com\"><img src=\"images/3pt.png\" width=\"350\"></img></a>\n",
    "### Learn More:\n",
    "\n",
    "Visit our website, <a href=\"https://3ptscience.com\">3ptscience.com</a>\n",
    "\n",
    "___\n",
    "\n",
    "Use `properties` yourself!\n",
    "\n",
    "`pip install properties` (or find it on <a href=\"https://github.com/3ptscience/properties\">Github</a>, <a href=\"http://propertiespy.readthedocs.io/en/latest/\">Docs</a>, <a href=\"https://pypi.python.org/pypi/properties/\">PyPI</a>)\n",
    "\n",
    "___\n",
    "\n",
    "Check out Steno3D, our online 3D visualization software: <a href=\"https://steno3d.com\">steno3d.com</a>\n",
    "\n",
    "`pip install steno3d` (or find it on <a href=\"https://github.com/3ptscience/steno3d\">Github</a>, <a href=\"http://python.steno3d.com\">Docs</a>, <a href=\"https://pypi.python.org/pypi/steno3d/\">PyPI</a>)\n",
    "\n",
    "___\n",
    "\n",
    "Some good videos: <a href=\"https://www.youtube.com/watch?v=sPiWg5jSoZI\">Metaprogramming</a>, \n",
    "<a href=\"https://www.youtube.com/watch?v=v5mrwq7yJc4\">Declarative interfaces</a>,\n",
    "or just google python descriptors, wrappers, metaclasses..."
   ]
  }
 ],
 "metadata": {
  "kernelspec": {
   "display_name": "Python 3",
   "language": "python",
   "name": "python3"
  },
  "language_info": {
   "codemirror_mode": {
    "name": "ipython",
    "version": 3
   },
   "file_extension": ".py",
   "mimetype": "text/x-python",
   "name": "python",
   "nbconvert_exporter": "python",
   "pygments_lexer": "ipython3",
   "version": "3.5.2"
  }
 },
 "nbformat": 4,
 "nbformat_minor": 0
}
