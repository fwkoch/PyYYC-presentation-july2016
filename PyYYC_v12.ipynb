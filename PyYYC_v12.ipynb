{
 "cells": [
  {
   "cell_type": "code",
   "execution_count": 1,
   "metadata": {
    "collapsed": false
   },
   "outputs": [
    {
     "name": "stdout",
     "output_type": "stream",
     "text": [
      "mcs: <class 'pyyyc_v12.SecretNameMeta'>\n",
      "name: PyYYCPresentation\n",
      "bases: (<class 'pyyyc_v12.WithSpecialProps'>,)\n",
      "attrs: {'slide_color': <pyyyc_v12.ColorProp object at 0x104120690>, 'time_limit': <pyyyc_v12.FloatProp object at 0x1041205d0>, '__module__': 'pyyyc_v12', 'strains_eyes': <function strains_eyes at 0x1041391b8>, 'nslides': <pyyyc_v12.IntProp object at 0x104120610>, 'topic': <pyyyc_v12.StrProp object at 0x104120150>, 'presenter': <pyyyc_v12.StrProp object at 0x1041060d0>, 'summarize': <function summarize at 0x1041390c8>, 'time_per_slide': <function time_per_slide at 0x104139140>}\n"
     ]
    }
   ],
   "source": [
    "from pyyyc_v12 import *"
   ]
  },
  {
   "cell_type": "code",
   "execution_count": 2,
   "metadata": {
    "collapsed": true
   },
   "outputs": [],
   "source": [
    "ppt = PyYYCPresentation()"
   ]
  },
  {
   "cell_type": "code",
   "execution_count": 3,
   "metadata": {
    "collapsed": false
   },
   "outputs": [
    {
     "data": {
      "text/plain": [
       "pyyyc_v12.thwarted_by_javascripters_again"
      ]
     },
     "execution_count": 3,
     "metadata": {},
     "output_type": "execute_result"
    }
   ],
   "source": [
    "ppt.__class__"
   ]
  },
  {
   "cell_type": "code",
   "execution_count": null,
   "metadata": {
    "collapsed": true
   },
   "outputs": [],
   "source": []
  }
 ],
 "metadata": {
  "kernelspec": {
   "display_name": "Python 2",
   "language": "python",
   "name": "python2"
  },
  "language_info": {
   "codemirror_mode": {
    "name": "ipython",
    "version": 2
   },
   "file_extension": ".py",
   "mimetype": "text/x-python",
   "name": "python",
   "nbconvert_exporter": "python",
   "pygments_lexer": "ipython2",
   "version": "2.7.12"
  }
 },
 "nbformat": 4,
 "nbformat_minor": 0
}
